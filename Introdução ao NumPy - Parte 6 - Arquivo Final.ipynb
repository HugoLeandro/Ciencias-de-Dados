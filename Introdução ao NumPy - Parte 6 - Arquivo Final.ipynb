{
 "cells": [
  {
   "cell_type": "markdown",
   "id": "5e1fbbfd",
   "metadata": {},
   "source": [
    "# NumPy\n",
    "\n",
    "- https://numpy.org/\n",
    "- O nome NumPy vem de Numerical Python\n",
    "    - Biblioteca de computação numérica\n",
    "    - Otimizada para cálculos pesados\n",
    "<br><br>\n",
    "- No NumPy vamos trabalhar com **arrays**, que são mais rápidos e mais performáticos que listas\n",
    "    - Arrays são estruturas de dados que guardam itens **do mesmo tipo** (diferente das listas)\n",
    "        - **[\"As operações matemáticas que devem ser executadas em arrays seriam extremamente ineficientes se os arrays não fossem homogêneos.\"](https://numpy.org/doc/stable/user/absolute_beginners.html#whats-the-difference-between-a-python-list-and-a-numpy-array)** \n",
    "    - Assim como **listas**, são um conjunto de **elementos ordenados que são mutáveis e de comprimento variável**\n",
    "    - Além disso, **podemos fazer várias operações com arrays (como multiplicação e soma) que não podem ser feitas com listas** mas são fundamentais para o nosso processo de Ciência de dados\n",
    "    - Obs: listas são estrutudas de dados do Python e arrays não, **array é uma estrutura de dados própria do numpy**"
   ]
  },
  {
   "cell_type": "code",
   "execution_count": 1,
   "id": "5c637404",
   "metadata": {},
   "outputs": [],
   "source": [
    "# Importar o numpy\n",
    "import numpy as np"
   ]
  },
  {
   "cell_type": "markdown",
   "id": "d76a96b9",
   "metadata": {},
   "source": [
    "- **A importância do NumPy**\n",
    "    - Vamos supor que temos a venda e comissão (em percentual) de 5 vendedores e queremos saber qual vai ser o salário de cada um deles (para isso precisamos multiplicar a venda pela comissão dividida por 100)"
   ]
  },
  {
   "cell_type": "code",
   "execution_count": 2,
   "id": "0c5c7f3f",
   "metadata": {},
   "outputs": [],
   "source": [
    "# Venda e comissão\n",
    "venda_valor = [150000,230000,82000,143000,184000]\n",
    "comissao = [5,8,8,5,12]"
   ]
  },
  {
   "cell_type": "code",
   "execution_count": 3,
   "id": "623cb1a9",
   "metadata": {},
   "outputs": [
    {
     "data": {
      "text/plain": [
       "list"
      ]
     },
     "execution_count": 3,
     "metadata": {},
     "output_type": "execute_result"
    }
   ],
   "source": [
    "# Qual o tipo desse dado?\n",
    "type(venda_valor)"
   ]
  },
  {
   "cell_type": "code",
   "execution_count": 4,
   "id": "ab318ff4",
   "metadata": {},
   "outputs": [],
   "source": [
    "# Ao tentar fazer essa operação com listas, teremos um erro\n",
    "# venda_valor*comissao"
   ]
  },
  {
   "cell_type": "markdown",
   "id": "158080e2",
   "metadata": {},
   "source": [
    "- **Podemos transformar uma lista em um array**\n",
    "    - https://numpy.org/doc/stable/user/basics.creation.html#converting-python-sequences-to-numpy-arrays"
   ]
  },
  {
   "cell_type": "code",
   "execution_count": 5,
   "id": "807acbfc",
   "metadata": {},
   "outputs": [],
   "source": [
    "# Transformando em um array\n",
    "venda_valor_array = np.array(venda_valor)\n",
    "comissao_array = np.array(comissao)"
   ]
  },
  {
   "cell_type": "code",
   "execution_count": 6,
   "id": "d1b93273",
   "metadata": {},
   "outputs": [],
   "source": [
    "# help(np.array)"
   ]
  },
  {
   "cell_type": "code",
   "execution_count": 7,
   "id": "e9f52d09",
   "metadata": {},
   "outputs": [
    {
     "data": {
      "text/plain": [
       "array([ 7500., 18400.,  6560.,  7150., 22080.])"
      ]
     },
     "execution_count": 7,
     "metadata": {},
     "output_type": "execute_result"
    }
   ],
   "source": [
    "# Agora vamos conseguir fazer sendo um array\n",
    "venda_valor_array*(comissao_array/100)"
   ]
  },
  {
   "cell_type": "markdown",
   "id": "6c7f74de",
   "metadata": {},
   "source": [
    "- **Agora que vimos a importância do array, podemos falar um pouco mais sobre ele**\n",
    "    - https://numpy.org/doc/stable/user/quickstart.html"
   ]
  },
  {
   "cell_type": "code",
   "execution_count": 8,
   "id": "3fb8e542",
   "metadata": {},
   "outputs": [],
   "source": [
    "# Copiando o exemplo\n",
    "a = np.arange(15).reshape(3, 5)"
   ]
  },
  {
   "cell_type": "code",
   "execution_count": 9,
   "id": "43928c96",
   "metadata": {},
   "outputs": [
    {
     "data": {
      "text/plain": [
       "array([[ 0,  1,  2,  3,  4],\n",
       "       [ 5,  6,  7,  8,  9],\n",
       "       [10, 11, 12, 13, 14]])"
      ]
     },
     "execution_count": 9,
     "metadata": {},
     "output_type": "execute_result"
    }
   ],
   "source": [
    "a"
   ]
  },
  {
   "cell_type": "code",
   "execution_count": 10,
   "id": "6f8b7e6e",
   "metadata": {},
   "outputs": [
    {
     "data": {
      "text/plain": [
       "2"
      ]
     },
     "execution_count": 10,
     "metadata": {},
     "output_type": "execute_result"
    }
   ],
   "source": [
    "# Verificando a dimensão desse array\n",
    "a.ndim"
   ]
  },
  {
   "cell_type": "code",
   "execution_count": 11,
   "id": "24bf0dad",
   "metadata": {},
   "outputs": [
    {
     "data": {
      "text/plain": [
       "(3, 5)"
      ]
     },
     "execution_count": 11,
     "metadata": {},
     "output_type": "execute_result"
    }
   ],
   "source": [
    "# Verificando a forma do array\n",
    "a.shape"
   ]
  },
  {
   "cell_type": "code",
   "execution_count": 12,
   "id": "37431455",
   "metadata": {},
   "outputs": [
    {
     "data": {
      "text/plain": [
       "dtype('int64')"
      ]
     },
     "execution_count": 12,
     "metadata": {},
     "output_type": "execute_result"
    }
   ],
   "source": [
    "# Verificando o tipo dos dados\n",
    "a.dtype"
   ]
  },
  {
   "cell_type": "markdown",
   "id": "5fabd352",
   "metadata": {},
   "source": [
    "- Primeiro tente responder o tipo de dado dos 3 arrays abaixo e depois escreva o código para o numpy retornar essa informação"
   ]
  },
  {
   "cell_type": "code",
   "execution_count": 13,
   "id": "a317c69c",
   "metadata": {},
   "outputs": [],
   "source": [
    "# Considerando os 3 arrays abaixo\n",
    "array1 = np.array([1,2,3,4,5])\n",
    "array2 = np.array([1,2,3,4.5,5])\n",
    "array3 = np.array([1,2,3,'4',5])"
   ]
  },
  {
   "cell_type": "code",
   "execution_count": 14,
   "id": "020f5ce2",
   "metadata": {},
   "outputs": [
    {
     "data": {
      "text/plain": [
       "dtype('int64')"
      ]
     },
     "execution_count": 14,
     "metadata": {},
     "output_type": "execute_result"
    }
   ],
   "source": [
    "# Verificando o tipo de dado do primeiro array e retornando esse array\n",
    "array1.dtype"
   ]
  },
  {
   "cell_type": "code",
   "execution_count": 15,
   "id": "b95393e8",
   "metadata": {},
   "outputs": [
    {
     "data": {
      "text/plain": [
       "dtype('float64')"
      ]
     },
     "execution_count": 15,
     "metadata": {},
     "output_type": "execute_result"
    }
   ],
   "source": [
    "# Fazendo a mesma coisa para o array2\n",
    "array2.dtype"
   ]
  },
  {
   "cell_type": "code",
   "execution_count": 16,
   "id": "2be3bb58",
   "metadata": {},
   "outputs": [
    {
     "data": {
      "text/plain": [
       "dtype('<U21')"
      ]
     },
     "execution_count": 16,
     "metadata": {},
     "output_type": "execute_result"
    }
   ],
   "source": [
    "# E para o array3\n",
    "array3.dtype"
   ]
  },
  {
   "cell_type": "markdown",
   "id": "a04f8a4f",
   "metadata": {},
   "source": [
    "- **Criando o nosso próprio array**"
   ]
  },
  {
   "cell_type": "code",
   "execution_count": 17,
   "id": "007e8bd5",
   "metadata": {},
   "outputs": [
    {
     "data": {
      "text/plain": [
       "array([1, 2, 3, 4, 5])"
      ]
     },
     "execution_count": 17,
     "metadata": {},
     "output_type": "execute_result"
    }
   ],
   "source": [
    "# Criando um array qualquer de números inteiros\n",
    "a = np.array([1,2,3,4,5])\n",
    "a"
   ]
  },
  {
   "cell_type": "code",
   "execution_count": 18,
   "id": "4f9417aa",
   "metadata": {},
   "outputs": [
    {
     "data": {
      "text/plain": [
       "array([1. , 2. , 3. , 4.7, 5. ])"
      ]
     },
     "execution_count": 18,
     "metadata": {},
     "output_type": "execute_result"
    }
   ],
   "source": [
    "# Criando um segundo array com valores decimais\n",
    "b = np.array([1,2,3,4.7,5])\n",
    "b"
   ]
  },
  {
   "cell_type": "code",
   "execution_count": 19,
   "id": "2853aa38",
   "metadata": {},
   "outputs": [
    {
     "data": {
      "text/plain": [
       "array([[1., 1., 1., 1.],\n",
       "       [1., 1., 1., 1.]])"
      ]
     },
     "execution_count": 19,
     "metadata": {},
     "output_type": "execute_result"
    }
   ],
   "source": [
    "# Criando um array apenas de valores zero\n",
    "np.ones(8).reshape(2,4)"
   ]
  },
  {
   "cell_type": "code",
   "execution_count": 20,
   "id": "a953f1b7",
   "metadata": {},
   "outputs": [
    {
     "data": {
      "text/plain": [
       "array([  0,   1,   2,   3,   4,   5,   6,   7,   8,   9,  10,  11,  12,\n",
       "        13,  14,  15,  16,  17,  18,  19,  20,  21,  22,  23,  24,  25,\n",
       "        26,  27,  28,  29,  30,  31,  32,  33,  34,  35,  36,  37,  38,\n",
       "        39,  40,  41,  42,  43,  44,  45,  46,  47,  48,  49,  50,  51,\n",
       "        52,  53,  54,  55,  56,  57,  58,  59,  60,  61,  62,  63,  64,\n",
       "        65,  66,  67,  68,  69,  70,  71,  72,  73,  74,  75,  76,  77,\n",
       "        78,  79,  80,  81,  82,  83,  84,  85,  86,  87,  88,  89,  90,\n",
       "        91,  92,  93,  94,  95,  96,  97,  98,  99, 100])"
      ]
     },
     "execution_count": 20,
     "metadata": {},
     "output_type": "execute_result"
    }
   ],
   "source": [
    "# Criando um array com uma lista de valores\n",
    "np.arange(101)"
   ]
  },
  {
   "cell_type": "code",
   "execution_count": 21,
   "id": "a434b8c8",
   "metadata": {},
   "outputs": [
    {
     "data": {
      "text/plain": [
       "array([15, 16, 17, 18, 19, 20, 21, 22, 23, 24, 25])"
      ]
     },
     "execution_count": 21,
     "metadata": {},
     "output_type": "execute_result"
    }
   ],
   "source": [
    "# Adicionando um intervalo para o array\n",
    "np.arange(15,26)"
   ]
  },
  {
   "cell_type": "code",
   "execution_count": 22,
   "id": "69656154",
   "metadata": {},
   "outputs": [
    {
     "data": {
      "text/plain": [
       "array([15, 20, 25])"
      ]
     },
     "execution_count": 22,
     "metadata": {},
     "output_type": "execute_result"
    }
   ],
   "source": [
    "# Adicionando um \"passo\" para o array\n",
    "np.arange(15,26,5)"
   ]
  },
  {
   "cell_type": "code",
   "execution_count": 23,
   "id": "03469b4e",
   "metadata": {},
   "outputs": [
    {
     "data": {
      "text/plain": [
       "array([ 5.        ,  5.55555556,  6.11111111,  6.66666667,  7.22222222,\n",
       "        7.77777778,  8.33333333,  8.88888889,  9.44444444, 10.        ])"
      ]
     },
     "execution_count": 23,
     "metadata": {},
     "output_type": "execute_result"
    }
   ],
   "source": [
    "# Criando um novo array com os valores igualmente espaçados (utilizando o linspace)\n",
    "np.linspace(5,10,10)"
   ]
  },
  {
   "cell_type": "markdown",
   "id": "d7b42c27",
   "metadata": {},
   "source": [
    "- O array de uma dimensão é o que chamamos de vetor e o de duas dimensões de matriz"
   ]
  },
  {
   "cell_type": "code",
   "execution_count": 24,
   "id": "70919c1d",
   "metadata": {},
   "outputs": [],
   "source": [
    "# Vamos considerar esses dados abaixo\n",
    "dados_venda = np.array([[150000,230000,82000,143000,184000],[5,8.2,8,5,12]])"
   ]
  },
  {
   "cell_type": "code",
   "execution_count": 25,
   "id": "7dba6d8b",
   "metadata": {},
   "outputs": [
    {
     "data": {
      "text/plain": [
       "array([[1.50e+05, 2.30e+05, 8.20e+04, 1.43e+05, 1.84e+05],\n",
       "       [5.00e+00, 8.20e+00, 8.00e+00, 5.00e+00, 1.20e+01]])"
      ]
     },
     "execution_count": 25,
     "metadata": {},
     "output_type": "execute_result"
    }
   ],
   "source": [
    "dados_venda"
   ]
  },
  {
   "cell_type": "code",
   "execution_count": 26,
   "id": "8439bb4b",
   "metadata": {},
   "outputs": [
    {
     "data": {
      "text/plain": [
       "(2, 5)"
      ]
     },
     "execution_count": 26,
     "metadata": {},
     "output_type": "execute_result"
    }
   ],
   "source": [
    "# Verificando a forma do array\n",
    "dados_venda.shape"
   ]
  },
  {
   "cell_type": "code",
   "execution_count": 27,
   "id": "e31cec2a",
   "metadata": {},
   "outputs": [
    {
     "data": {
      "text/plain": [
       "dtype('float64')"
      ]
     },
     "execution_count": 27,
     "metadata": {},
     "output_type": "execute_result"
    }
   ],
   "source": [
    "# Verificando o tipo dos dados\n",
    "dados_venda.dtype"
   ]
  },
  {
   "cell_type": "code",
   "execution_count": 28,
   "id": "7a4a460e",
   "metadata": {},
   "outputs": [],
   "source": [
    "# Agora considerando esses novos dados\n",
    "dados_venda = np.array([['Lucas','Bia','Jean','Gabi','Pedro'],[150000,230000,82000,143000,184000]])"
   ]
  },
  {
   "cell_type": "code",
   "execution_count": 29,
   "id": "5e3bcbf6",
   "metadata": {},
   "outputs": [
    {
     "data": {
      "text/plain": [
       "array([['Lucas', 'Bia', 'Jean', 'Gabi', 'Pedro'],\n",
       "       ['150000', '230000', '82000', '143000', '184000']], dtype='<U6')"
      ]
     },
     "execution_count": 29,
     "metadata": {},
     "output_type": "execute_result"
    }
   ],
   "source": [
    "dados_venda"
   ]
  },
  {
   "cell_type": "code",
   "execution_count": 30,
   "id": "7320dd1b",
   "metadata": {},
   "outputs": [
    {
     "data": {
      "text/plain": [
       "(2, 5)"
      ]
     },
     "execution_count": 30,
     "metadata": {},
     "output_type": "execute_result"
    }
   ],
   "source": [
    "# Verificando a forma do array\n",
    "dados_venda.shape"
   ]
  },
  {
   "cell_type": "code",
   "execution_count": 31,
   "id": "f0e9adfd",
   "metadata": {},
   "outputs": [
    {
     "data": {
      "text/plain": [
       "dtype('<U6')"
      ]
     },
     "execution_count": 31,
     "metadata": {},
     "output_type": "execute_result"
    }
   ],
   "source": [
    "# Verificando o tipo dos dados\n",
    "dados_venda.dtype"
   ]
  },
  {
   "cell_type": "markdown",
   "id": "6ffa7d0c",
   "metadata": {},
   "source": [
    "- **Assim como listas, também podemos buscar elementos no array utilizando seus índices**\n",
    "    - https://numpy.org/doc/stable/user/basics.indexing.html"
   ]
  },
  {
   "cell_type": "code",
   "execution_count": 32,
   "id": "32fd64c4",
   "metadata": {},
   "outputs": [
    {
     "data": {
      "text/plain": [
       "array([[ 0,  1,  2,  3,  4],\n",
       "       [ 5,  6,  7,  8,  9],\n",
       "       [10, 11, 12, 13, 14]])"
      ]
     },
     "execution_count": 32,
     "metadata": {},
     "output_type": "execute_result"
    }
   ],
   "source": [
    "# Utilizando o mesmo array do exemplo\n",
    "a = np.arange(15).reshape(3, 5)\n",
    "a"
   ]
  },
  {
   "cell_type": "code",
   "execution_count": 33,
   "id": "30a9180a",
   "metadata": {},
   "outputs": [
    {
     "data": {
      "text/plain": [
       "array([0, 1, 2, 3, 4, 5, 6, 7, 8, 9])"
      ]
     },
     "execution_count": 33,
     "metadata": {},
     "output_type": "execute_result"
    }
   ],
   "source": [
    "b = np.arange(10)\n",
    "b"
   ]
  },
  {
   "cell_type": "code",
   "execution_count": 34,
   "id": "ecdd0178",
   "metadata": {},
   "outputs": [
    {
     "data": {
      "text/plain": [
       "array([0, 1, 2, 3, 4])"
      ]
     },
     "execution_count": 34,
     "metadata": {},
     "output_type": "execute_result"
    }
   ],
   "source": [
    "# Buscando a primeira linha\n",
    "a[0]"
   ]
  },
  {
   "cell_type": "code",
   "execution_count": 35,
   "id": "8c4b21fb",
   "metadata": {},
   "outputs": [
    {
     "data": {
      "text/plain": [
       "3"
      ]
     },
     "execution_count": 35,
     "metadata": {},
     "output_type": "execute_result"
    }
   ],
   "source": [
    "# Na primeira linha, buscando o elemento de índice 3\n",
    "a[0][3]"
   ]
  },
  {
   "cell_type": "code",
   "execution_count": 36,
   "id": "7f961e23",
   "metadata": {},
   "outputs": [
    {
     "data": {
      "text/plain": [
       "array([1, 2, 3])"
      ]
     },
     "execution_count": 36,
     "metadata": {},
     "output_type": "execute_result"
    }
   ],
   "source": [
    "# Buscando os elementos de índice 1 a 3 (incluindo o 3) na primeira linha\n",
    "a[0][1:4]"
   ]
  },
  {
   "cell_type": "code",
   "execution_count": 37,
   "id": "913767a6",
   "metadata": {},
   "outputs": [
    {
     "data": {
      "text/plain": [
       "array([ 6,  7,  8,  9, 10, 11, 12, 13, 14])"
      ]
     },
     "execution_count": 37,
     "metadata": {},
     "output_type": "execute_result"
    }
   ],
   "source": [
    "# Buscando apenas os valores maiores que 5\n",
    "a[a>5]"
   ]
  },
  {
   "cell_type": "code",
   "execution_count": 38,
   "id": "09b0a19c",
   "metadata": {},
   "outputs": [],
   "source": [
    "# Buscando valores maiores que 5 E (&) menores que 11\n",
    "novo_array = a[(a>5)&(a<11)]"
   ]
  },
  {
   "cell_type": "code",
   "execution_count": 39,
   "id": "eeb565ad",
   "metadata": {},
   "outputs": [
    {
     "data": {
      "text/plain": [
       "array([ 6,  7,  8,  9, 10])"
      ]
     },
     "execution_count": 39,
     "metadata": {},
     "output_type": "execute_result"
    }
   ],
   "source": [
    "# Visualizando o array\n",
    "novo_array"
   ]
  },
  {
   "cell_type": "markdown",
   "id": "88b635af",
   "metadata": {},
   "source": [
    "- **Operações com array**\n",
    "    - https://numpy.org/doc/stable/user/absolute_beginners.html#basic-array-operations"
   ]
  },
  {
   "cell_type": "code",
   "execution_count": 40,
   "id": "15b88ef4",
   "metadata": {},
   "outputs": [
    {
     "data": {
      "text/plain": [
       "array([[0, 1, 2],\n",
       "       [3, 4, 5]])"
      ]
     },
     "execution_count": 40,
     "metadata": {},
     "output_type": "execute_result"
    }
   ],
   "source": [
    "# Considerando o array abaixo\n",
    "dados = np.arange(6).reshape(2, 3)\n",
    "dados"
   ]
  },
  {
   "cell_type": "code",
   "execution_count": 41,
   "id": "3ee25d50",
   "metadata": {},
   "outputs": [
    {
     "data": {
      "text/plain": [
       "15"
      ]
     },
     "execution_count": 41,
     "metadata": {},
     "output_type": "execute_result"
    }
   ],
   "source": [
    "# Somando todos os valores\n",
    "dados.sum()"
   ]
  },
  {
   "cell_type": "code",
   "execution_count": 42,
   "id": "b72cafb5",
   "metadata": {},
   "outputs": [
    {
     "data": {
      "text/plain": [
       "array([ 3, 12])"
      ]
     },
     "execution_count": 42,
     "metadata": {},
     "output_type": "execute_result"
    }
   ],
   "source": [
    "# Somando apenas os valores da linha\n",
    "dados.sum(axis=1)"
   ]
  },
  {
   "cell_type": "code",
   "execution_count": 43,
   "id": "76c24b2c",
   "metadata": {},
   "outputs": [
    {
     "data": {
      "text/plain": [
       "array([[ 0,  1,  3],\n",
       "       [ 3,  7, 12]])"
      ]
     },
     "execution_count": 43,
     "metadata": {},
     "output_type": "execute_result"
    }
   ],
   "source": [
    "# Fazendo a soma acumulada desses valores\n",
    "dados.cumsum(axis=1)"
   ]
  },
  {
   "cell_type": "code",
   "execution_count": 44,
   "id": "330cfcb9",
   "metadata": {},
   "outputs": [
    {
     "data": {
      "text/plain": [
       "array([3, 5, 7])"
      ]
     },
     "execution_count": 44,
     "metadata": {},
     "output_type": "execute_result"
    }
   ],
   "source": [
    "# Somando apenas os valores da coluna\n",
    "dados.sum(axis=0)"
   ]
  },
  {
   "cell_type": "code",
   "execution_count": 45,
   "id": "08cc0f72",
   "metadata": {},
   "outputs": [
    {
     "data": {
      "text/plain": [
       "array([[1, 2, 3],\n",
       "       [4, 5, 6]])"
      ]
     },
     "execution_count": 45,
     "metadata": {},
     "output_type": "execute_result"
    }
   ],
   "source": [
    "# Somando 1 em todos os valores\n",
    "dados+1"
   ]
  },
  {
   "cell_type": "code",
   "execution_count": 46,
   "id": "684578df",
   "metadata": {},
   "outputs": [
    {
     "data": {
      "text/plain": [
       "array([[ 0,  2,  4],\n",
       "       [ 6,  8, 10]])"
      ]
     },
     "execution_count": 46,
     "metadata": {},
     "output_type": "execute_result"
    }
   ],
   "source": [
    "# Multiplicando 2 em todos os valores do array\n",
    "dados*2"
   ]
  },
  {
   "cell_type": "code",
   "execution_count": 50,
   "id": "1421c02d",
   "metadata": {},
   "outputs": [
    {
     "data": {
      "text/plain": [
       "0"
      ]
     },
     "execution_count": 50,
     "metadata": {},
     "output_type": "execute_result"
    }
   ],
   "source": [
    "# Verificando o menor valor desse array\n",
    "dados.min()"
   ]
  },
  {
   "cell_type": "code",
   "execution_count": 51,
   "id": "5d346a40",
   "metadata": {},
   "outputs": [
    {
     "data": {
      "text/plain": [
       "5"
      ]
     },
     "execution_count": 51,
     "metadata": {},
     "output_type": "execute_result"
    }
   ],
   "source": [
    "# E agora o maior valor\n",
    "dados.max()"
   ]
  },
  {
   "cell_type": "code",
   "execution_count": 54,
   "id": "41769f2e",
   "metadata": {},
   "outputs": [
    {
     "data": {
      "text/plain": [
       "array([[0, 1, 2],\n",
       "       [3, 4, 5]])"
      ]
     },
     "execution_count": 54,
     "metadata": {},
     "output_type": "execute_result"
    }
   ],
   "source": [
    "dados"
   ]
  },
  {
   "cell_type": "code",
   "execution_count": 56,
   "id": "d3251f5a",
   "metadata": {},
   "outputs": [
    {
     "data": {
      "text/plain": [
       "1.0"
      ]
     },
     "execution_count": 56,
     "metadata": {},
     "output_type": "execute_result"
    }
   ],
   "source": [
    "# Calculando a média da primeira linha\n",
    "dados[0].mean()"
   ]
  },
  {
   "cell_type": "code",
   "execution_count": 57,
   "id": "ba154174",
   "metadata": {},
   "outputs": [
    {
     "data": {
      "text/plain": [
       "4.0"
      ]
     },
     "execution_count": 57,
     "metadata": {},
     "output_type": "execute_result"
    }
   ],
   "source": [
    "# E da segunda linha\n",
    "dados[1].mean()"
   ]
  },
  {
   "cell_type": "code",
   "execution_count": 64,
   "id": "4587ff49",
   "metadata": {},
   "outputs": [
    {
     "data": {
      "text/plain": [
       "2.5"
      ]
     },
     "execution_count": 64,
     "metadata": {},
     "output_type": "execute_result"
    }
   ],
   "source": [
    "# Verificando a mediana\n",
    "np.median(dados)"
   ]
  },
  {
   "cell_type": "markdown",
   "id": "d9705ddb",
   "metadata": {},
   "source": [
    "- Inclusive podemos fazer operação entre arrays"
   ]
  },
  {
   "cell_type": "code",
   "execution_count": 65,
   "id": "349f6e67",
   "metadata": {},
   "outputs": [],
   "source": [
    "# Considerando esses 2 arrays\n",
    "array1 = np.array([1,2,3,4,5])\n",
    "array2 = np.array([7,8,9,10,11])"
   ]
  },
  {
   "cell_type": "code",
   "execution_count": 66,
   "id": "fae35954",
   "metadata": {},
   "outputs": [
    {
     "data": {
      "text/plain": [
       "array([ 8, 10, 12, 14, 16])"
      ]
     },
     "execution_count": 66,
     "metadata": {},
     "output_type": "execute_result"
    }
   ],
   "source": [
    "# Somando os arrays\n",
    "array1+array2"
   ]
  },
  {
   "cell_type": "code",
   "execution_count": 67,
   "id": "3c848dca",
   "metadata": {},
   "outputs": [
    {
     "data": {
      "text/plain": [
       "array([ 7, 16, 27, 40, 55])"
      ]
     },
     "execution_count": 67,
     "metadata": {},
     "output_type": "execute_result"
    }
   ],
   "source": [
    "# Multiplicando esses arrays\n",
    "array1*array2"
   ]
  },
  {
   "cell_type": "code",
   "execution_count": 69,
   "id": "c297cfa4",
   "metadata": {},
   "outputs": [
    {
     "data": {
      "text/plain": [
       "array([     7,     64,    729,  10000, 161051])"
      ]
     },
     "execution_count": 69,
     "metadata": {},
     "output_type": "execute_result"
    }
   ],
   "source": [
    "# Potência\n",
    "array2**array1"
   ]
  }
 ],
 "metadata": {
  "kernelspec": {
   "display_name": "Python 3 (ipykernel)",
   "language": "python",
   "name": "python3"
  },
  "language_info": {
   "codemirror_mode": {
    "name": "ipython",
    "version": 3
   },
   "file_extension": ".py",
   "mimetype": "text/x-python",
   "name": "python",
   "nbconvert_exporter": "python",
   "pygments_lexer": "ipython3",
   "version": "3.9.13"
  }
 },
 "nbformat": 4,
 "nbformat_minor": 5
}
